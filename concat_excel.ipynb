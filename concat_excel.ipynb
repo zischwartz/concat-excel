{
 "cells": [
  {
   "cell_type": "code",
   "execution_count": null,
   "metadata": {},
   "outputs": [],
   "source": []
  },
  {
   "cell_type": "code",
   "execution_count": null,
   "metadata": {},
   "outputs": [],
   "source": [
    "import pandas as pd\n",
    "import numpy as np\n",
    "import glob, os    "
   ]
  },
  {
   "cell_type": "code",
   "execution_count": null,
   "metadata": {},
   "outputs": [],
   "source": [
    "# we need to install this to write out an xlsm file later, and it's not included in our docker build so:\n",
    "!pip install openpyxl\n",
    "import openpyxl\n"
   ]
  },
  {
   "cell_type": "code",
   "execution_count": null,
   "metadata": {},
   "outputs": [],
   "source": [
    "# get a list of all the file names\n",
    "file_names = glob.glob(os.path.join('', \"*.xlsm\"))\n",
    "file_names"
   ]
  },
  {
   "cell_type": "code",
   "execution_count": null,
   "metadata": {},
   "outputs": [],
   "source": [
    "# None gets us a dict of df's with an entry for each sheet, though this is tested on one sheet files XXX\n",
    "# don't worry about headers and skip the first three rows\n",
    "from_each_file = [pd.read_excel(fname, None, header=None, skiprows=[0,1,2]) for fname in file_names]\n"
   ]
  },
  {
   "cell_type": "code",
   "execution_count": null,
   "metadata": {},
   "outputs": [],
   "source": [
    "len(from_each_file)"
   ]
  },
  {
   "cell_type": "code",
   "execution_count": null,
   "metadata": {},
   "outputs": [],
   "source": [
    "# just get a list of all sheets for each file, we don't care about the sheetname\n",
    "file_dfs = [file.values() for file in from_each_file]\n",
    "# we're left with a list of lists of dataframes\n",
    "# flatten that list of lists, so we just have an list of dataframes\n",
    "flat_list = [item for sublist in file_dfs for item in sublist]"
   ]
  },
  {
   "cell_type": "code",
   "execution_count": null,
   "metadata": {},
   "outputs": [],
   "source": [
    "# flat_list[0].info()"
   ]
  },
  {
   "cell_type": "code",
   "execution_count": null,
   "metadata": {},
   "outputs": [],
   "source": [
    "# combine that list of dataframes into a single dataframe\n",
    "all_together = pd.concat(flat_list, ignore_index=True)\n",
    "# drop all the entries that lack have nothing in the first column\n",
    "# there may be a better column to drop on\n",
    "all_together = all_together.dropna(axis=0, how=\"all\", subset=[0])\n",
    "all_together.info()"
   ]
  },
  {
   "cell_type": "code",
   "execution_count": null,
   "metadata": {},
   "outputs": [],
   "source": [
    "# all_together[300:520]"
   ]
  },
  {
   "cell_type": "code",
   "execution_count": null,
   "metadata": {},
   "outputs": [],
   "source": [
    "all_together.to_excel(\"all.xlsm\")"
   ]
  },
  {
   "cell_type": "code",
   "execution_count": null,
   "metadata": {
    "scrolled": true
   },
   "outputs": [],
   "source": [
    "# to just load one file\n",
    "# # if there were multiple sheets ?\n",
    "# frames = pd.read_excel(\"one.xlsm\", None)\n",
    "# frames.keys()\n",
    "\n",
    "# it appears named argument sheetname=None doesn't work as the docs would suggest \n",
    "# but the version of pandas here is a bit out of date. and None works positionally it seems\n",
    "\n",
    "# garden = pd.read_excel(\"two.xlsm\", None, header=None, skiprows=[0,1,2])\n",
    "# garden.keys()"
   ]
  },
  {
   "cell_type": "code",
   "execution_count": null,
   "metadata": {},
   "outputs": [],
   "source": []
  }
 ],
 "metadata": {
  "kernelspec": {
   "display_name": "Python 3",
   "language": "python",
   "name": "python3"
  },
  "language_info": {
   "codemirror_mode": {
    "name": "ipython",
    "version": 3
   },
   "file_extension": ".py",
   "mimetype": "text/x-python",
   "name": "python",
   "nbconvert_exporter": "python",
   "pygments_lexer": "ipython3",
   "version": "3.6.3"
  }
 },
 "nbformat": 4,
 "nbformat_minor": 2
}
